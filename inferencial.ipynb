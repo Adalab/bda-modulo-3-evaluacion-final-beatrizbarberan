{
 "cells": [
  {
   "cell_type": "code",
   "execution_count": 4,
   "id": "9bcb58cc",
   "metadata": {},
   "outputs": [],
   "source": [
    " #importamos las librerías que necesitamos\n",
    "import pandas as pd\n",
    "import numpy as np\n",
    "\n",
    "\n",
    "import matplotlib.pyplot as plt\n",
    "import seaborn as sns\n",
    "\n",
    "import scipy.stats as st\n",
    "import scipy.stats as stats\n",
    "from scipy.stats import shapiro, poisson, chisquare, expon, kstest"
   ]
  },
  {
   "cell_type": "code",
   "execution_count": 5,
   "id": "21ef1ac2",
   "metadata": {},
   "outputs": [
    {
     "data": {
      "text/plain": [
       "(405624, 25)"
      ]
     },
     "execution_count": 5,
     "metadata": {},
     "output_type": "execute_result"
    }
   ],
   "source": [
    "dff = pd.read_csv(\"Customer Flight Activity.csv\")\n",
    "dfl = pd.read_csv(\"Customer Loyalty History.csv\")\n",
    "\n",
    "pd.set_option(\"display.max_columns\", None)\n",
    "\n",
    "df = pd.merge(dff, dfl, on=\"Loyalty Number\", how=\"left\")\n",
    "df.shape"
   ]
  },
  {
   "cell_type": "code",
   "execution_count": 6,
   "id": "0e28f0e0",
   "metadata": {},
   "outputs": [],
   "source": [
    "def prueba_hipotesis(*args):\n",
    "    \"\"\"\n",
    "    Realiza una prueba de hipótesis para comparar grupos.\n",
    "    1. Primero verifica si los datos son normales usando el test de Shapiro-Wilk o Kolmogorov-Smirnov.\n",
    "    2. Si los datos son normales, usa Bartlett para probar igualdad de varianzas. Si no son normales, usa Levene.\n",
    "    3. Si las varianzas son iguales, usa el t-test de Student; si no, usa la versión de Welch.\n",
    "    4. Si los datos no son normales, usa el test de Mann-Whitney\n",
    "\n",
    "    Parámetros:\n",
    "    *args: listas o arrays con los datos de cada grupo. Espera DOS grupos a comparar\n",
    "\n",
    "    Retorna:\n",
    "    dict con resultados del test de normalidad, varianza e hipótesis.\n",
    "    \"\"\"\n",
    "    \n",
    "    # Verificar si hay al menos dos grupos\n",
    "    if len(args) < 2:\n",
    "        raise ValueError(\"Se necesitan al menos dos conjuntos de datos para realizar la prueba.\")\n",
    "    \n",
    "    # Comprobar normalidad en cada grupo\n",
    "    normalidad = []\n",
    "    for grupo in args:\n",
    "        if len(grupo) > 50: #aquí vamos a decidir hacer komogorov porque es más potente y shapiro solo en muestras pequeñas\n",
    "            p_valor_norm = stats.kstest(grupo, 'norm').pvalue  # Kolmogorov-Smirnov si n > 50\n",
    "        else:\n",
    "            p_valor_norm = stats.shapiro(grupo).pvalue  # Shapiro-Wilk si n <= 50\n",
    "        normalidad.append(p_valor_norm > 0.05)\n",
    "\n",
    "    datos_normales = all(normalidad)  # True si todos los grupos son normales, all() solo devuelve True si todos los elementos son True\n",
    "\n",
    "    # Prueba de igualdad de varianzas\n",
    "    if datos_normales:\n",
    "        p_valor_varianza = stats.bartlett(*args).pvalue  # Test de Bartlett si los datos son normales\n",
    "    else:\n",
    "        p_valor_varianza = stats.levene(*args, center=\"median\").pvalue  # Test de Levene si no son normales\n",
    "\n",
    "    varianzas_iguales = p_valor_varianza > 0.05\n",
    "\n",
    "    # Aplicar el test adecuado\n",
    "    if datos_normales:\n",
    "        if varianzas_iguales:\n",
    "            t_stat, p_valor = stats.ttest_ind(*args, equal_var=True)\n",
    "            test_usado = \"t-test de Student (varianzas iguales)\"\n",
    "        else:\n",
    "            t_stat, p_valor = stats.ttest_ind(*args, equal_var=False)\n",
    "            test_usado = \"t-test de Welch (varianzas desiguales)\"\n",
    "    else:\n",
    "        t_stat, p_valor = stats.mannwhitneyu(*args)\n",
    "        test_usado = \"Mann-Whitney U\"\n",
    "\n",
    "    # Nivel de significancia\n",
    "    alfa = 0.05\n",
    "\n",
    "    # Resultados\n",
    "    resultado = {\n",
    "        \"Test de Normalidad\": normalidad,\n",
    "        \"Datos Normales\": datos_normales,\n",
    "        \"p-valor Varianza\": p_valor_varianza,\n",
    "        \"Varianzas Iguales\": varianzas_iguales,\n",
    "        \"Test Usado\": test_usado,\n",
    "        \"Estadístico\": t_stat,\n",
    "        \"p-valor\": p_valor,\n",
    "        \"Conclusión\": \"Rechazamos H0. Es decir, sí hay diferencias significativas)\" if p_valor < alfa else \"No se rechaza H0. Es decir, no hay diferencias significativas)\"\n",
    "    }\n",
    "\n",
    "    # Imprimir resultados de manera más clara\n",
    "    print(\"\\n📊 **Resultados de la Prueba de Hipótesis** 📊\")\n",
    "    print(f\"✅ Test de Normalidad: {'Sí' if datos_normales else 'No'}\")\n",
    "    print(f\"   - Normalidad por grupo: {normalidad}\")\n",
    "    print(f\"✅ Test de Varianza: {'Iguales' if varianzas_iguales else 'Desiguales'} (p = {p_valor_varianza:.4f})\")\n",
    "    print(f\"✅ Test aplicado: {test_usado}\")\n",
    "    print(f\"📉 Estadístico: {t_stat:.4f}, p-valor: {p_valor:.4f}\")\n",
    "    print(f\"🔍 Conclusión: {resultado['Conclusión']}\\n\")\n",
    "\n"
   ]
  },
  {
   "cell_type": "code",
   "execution_count": 7,
   "id": "9981bfe5",
   "metadata": {},
   "outputs": [
    {
     "data": {
      "text/plain": [
       "Education\n",
       "Bachelor                253752\n",
       "College                 102672\n",
       "High School or Below     19008\n",
       "Doctor                   17856\n",
       "Master                   12336\n",
       "Name: count, dtype: int64"
      ]
     },
     "execution_count": 7,
     "metadata": {},
     "output_type": "execute_result"
    }
   ],
   "source": [
    "df['Education'].value_counts()"
   ]
  },
  {
   "cell_type": "code",
   "execution_count": 10,
   "id": "3ded0649",
   "metadata": {},
   "outputs": [],
   "source": [
    "grupo_educacion_bachelor = df[df['Education'] == 'Bachelor'][\"Flights Booked\"]\n",
    "grupo_educacion_college = df[df['Education'] == 'College'][\"Flights Booked\"]\n",
    "grupo_educacion_hight_school = df[df['Education'] == 'High School or Below'][\"Flights Booked\"]\n",
    "grupo_educacion_doctor = df[df['Education'] == 'Doctor'][\"Flights Booked\"]\n",
    "grupo_educacion_master = df[df['Education'] == 'Master'][\"Flights Booked\"]"
   ]
  },
  {
   "cell_type": "code",
   "execution_count": 11,
   "id": "f9337b45",
   "metadata": {},
   "outputs": [
    {
     "ename": "AxisError",
     "evalue": "`axis` is out of bounds for array of dimension 1",
     "output_type": "error",
     "traceback": [
      "\u001b[1;31m---------------------------------------------------------------------------\u001b[0m",
      "\u001b[1;31mAxisError\u001b[0m                                 Traceback (most recent call last)",
      "Cell \u001b[1;32mIn[11], line 1\u001b[0m\n\u001b[1;32m----> 1\u001b[0m prueba_hipotesis(grupo_educacion_bachelor, grupo_educacion_college, grupo_educacion_hight_school, grupo_educacion_doctor, grupo_educacion_master)\n",
      "Cell \u001b[1;32mIn[6], line 48\u001b[0m, in \u001b[0;36mprueba_hipotesis\u001b[1;34m(*args)\u001b[0m\n\u001b[0;32m     46\u001b[0m         test_usado \u001b[38;5;241m=\u001b[39m \u001b[38;5;124m\"\u001b[39m\u001b[38;5;124mt-test de Welch (varianzas desiguales)\u001b[39m\u001b[38;5;124m\"\u001b[39m\n\u001b[0;32m     47\u001b[0m \u001b[38;5;28;01melse\u001b[39;00m:\n\u001b[1;32m---> 48\u001b[0m     t_stat, p_valor \u001b[38;5;241m=\u001b[39m stats\u001b[38;5;241m.\u001b[39mmannwhitneyu(\u001b[38;5;241m*\u001b[39margs)\n\u001b[0;32m     49\u001b[0m     test_usado \u001b[38;5;241m=\u001b[39m \u001b[38;5;124m\"\u001b[39m\u001b[38;5;124mMann-Whitney U\u001b[39m\u001b[38;5;124m\"\u001b[39m\n\u001b[0;32m     51\u001b[0m \u001b[38;5;66;03m# Nivel de significancia\u001b[39;00m\n",
      "File \u001b[1;32mc:\\ProgramData\\anaconda3\\Lib\\site-packages\\scipy\\stats\\_axis_nan_policy.py:483\u001b[0m, in \u001b[0;36m_axis_nan_policy_factory.<locals>.axis_nan_policy_decorator.<locals>.axis_nan_policy_wrapper\u001b[1;34m(***failed resolving arguments***)\u001b[0m\n\u001b[0;32m    481\u001b[0m     samples \u001b[38;5;241m=\u001b[39m [np\u001b[38;5;241m.\u001b[39masarray(sample\u001b[38;5;241m.\u001b[39mravel()) \u001b[38;5;28;01mfor\u001b[39;00m sample \u001b[38;5;129;01min\u001b[39;00m samples]\n\u001b[0;32m    482\u001b[0m \u001b[38;5;28;01melse\u001b[39;00m:\n\u001b[1;32m--> 483\u001b[0m     samples \u001b[38;5;241m=\u001b[39m _broadcast_arrays(samples, axis\u001b[38;5;241m=\u001b[39maxis)\n\u001b[0;32m    484\u001b[0m     axis \u001b[38;5;241m=\u001b[39m np\u001b[38;5;241m.\u001b[39matleast_1d(axis)\n\u001b[0;32m    485\u001b[0m     n_axes \u001b[38;5;241m=\u001b[39m \u001b[38;5;28mlen\u001b[39m(axis)\n",
      "File \u001b[1;32mc:\\ProgramData\\anaconda3\\Lib\\site-packages\\scipy\\stats\\_axis_nan_policy.py:18\u001b[0m, in \u001b[0;36m_broadcast_arrays\u001b[1;34m(arrays, axis)\u001b[0m\n\u001b[0;32m     14\u001b[0m \u001b[38;5;28;01mdef\u001b[39;00m \u001b[38;5;21m_broadcast_arrays\u001b[39m(arrays, axis\u001b[38;5;241m=\u001b[39m\u001b[38;5;28;01mNone\u001b[39;00m):\n\u001b[0;32m     15\u001b[0m \u001b[38;5;250m    \u001b[39m\u001b[38;5;124;03m\"\"\"\u001b[39;00m\n\u001b[0;32m     16\u001b[0m \u001b[38;5;124;03m    Broadcast shapes of arrays, ignoring incompatibility of specified axes\u001b[39;00m\n\u001b[0;32m     17\u001b[0m \u001b[38;5;124;03m    \"\"\"\u001b[39;00m\n\u001b[1;32m---> 18\u001b[0m     new_shapes \u001b[38;5;241m=\u001b[39m _broadcast_array_shapes(arrays, axis\u001b[38;5;241m=\u001b[39maxis)\n\u001b[0;32m     19\u001b[0m     \u001b[38;5;28;01mif\u001b[39;00m axis \u001b[38;5;129;01mis\u001b[39;00m \u001b[38;5;28;01mNone\u001b[39;00m:\n\u001b[0;32m     20\u001b[0m         new_shapes \u001b[38;5;241m=\u001b[39m [new_shapes]\u001b[38;5;241m*\u001b[39m\u001b[38;5;28mlen\u001b[39m(arrays)\n",
      "File \u001b[1;32mc:\\ProgramData\\anaconda3\\Lib\\site-packages\\scipy\\stats\\_axis_nan_policy.py:30\u001b[0m, in \u001b[0;36m_broadcast_array_shapes\u001b[1;34m(arrays, axis)\u001b[0m\n\u001b[0;32m     26\u001b[0m \u001b[38;5;250m\u001b[39m\u001b[38;5;124;03m\"\"\"\u001b[39;00m\n\u001b[0;32m     27\u001b[0m \u001b[38;5;124;03mBroadcast shapes of arrays, ignoring incompatibility of specified axes\u001b[39;00m\n\u001b[0;32m     28\u001b[0m \u001b[38;5;124;03m\"\"\"\u001b[39;00m\n\u001b[0;32m     29\u001b[0m shapes \u001b[38;5;241m=\u001b[39m [np\u001b[38;5;241m.\u001b[39masarray(arr)\u001b[38;5;241m.\u001b[39mshape \u001b[38;5;28;01mfor\u001b[39;00m arr \u001b[38;5;129;01min\u001b[39;00m arrays]\n\u001b[1;32m---> 30\u001b[0m \u001b[38;5;28;01mreturn\u001b[39;00m _broadcast_shapes(shapes, axis)\n",
      "File \u001b[1;32mc:\\ProgramData\\anaconda3\\Lib\\site-packages\\scipy\\stats\\_axis_nan_policy.py:62\u001b[0m, in \u001b[0;36m_broadcast_shapes\u001b[1;34m(shapes, axis)\u001b[0m\n\u001b[0;32m     59\u001b[0m \u001b[38;5;28;01mif\u001b[39;00m axis[\u001b[38;5;241m-\u001b[39m\u001b[38;5;241m1\u001b[39m] \u001b[38;5;241m>\u001b[39m\u001b[38;5;241m=\u001b[39m n_dims \u001b[38;5;129;01mor\u001b[39;00m axis[\u001b[38;5;241m0\u001b[39m] \u001b[38;5;241m<\u001b[39m \u001b[38;5;241m0\u001b[39m:\n\u001b[0;32m     60\u001b[0m     message \u001b[38;5;241m=\u001b[39m (\u001b[38;5;124mf\u001b[39m\u001b[38;5;124m\"\u001b[39m\u001b[38;5;124m`axis` is out of bounds \u001b[39m\u001b[38;5;124m\"\u001b[39m\n\u001b[0;32m     61\u001b[0m                \u001b[38;5;124mf\u001b[39m\u001b[38;5;124m\"\u001b[39m\u001b[38;5;124mfor array of dimension \u001b[39m\u001b[38;5;132;01m{\u001b[39;00mn_dims\u001b[38;5;132;01m}\u001b[39;00m\u001b[38;5;124m\"\u001b[39m)\n\u001b[1;32m---> 62\u001b[0m     \u001b[38;5;28;01mraise\u001b[39;00m AxisError(message)\n\u001b[0;32m     64\u001b[0m \u001b[38;5;28;01mif\u001b[39;00m \u001b[38;5;28mlen\u001b[39m(np\u001b[38;5;241m.\u001b[39munique(axis)) \u001b[38;5;241m!=\u001b[39m \u001b[38;5;28mlen\u001b[39m(axis):\n\u001b[0;32m     65\u001b[0m     \u001b[38;5;28;01mraise\u001b[39;00m AxisError(\u001b[38;5;124m\"\u001b[39m\u001b[38;5;124m`axis` must contain only distinct elements\u001b[39m\u001b[38;5;124m\"\u001b[39m)\n",
      "\u001b[1;31mAxisError\u001b[0m: `axis` is out of bounds for array of dimension 1"
     ]
    }
   ],
   "source": [
    "prueba_hipotesis(grupo_educacion_bachelor, grupo_educacion_college, grupo_educacion_hight_school, grupo_educacion_doctor, grupo_educacion_master)"
   ]
  }
 ],
 "metadata": {
  "kernelspec": {
   "display_name": "base",
   "language": "python",
   "name": "python3"
  },
  "language_info": {
   "codemirror_mode": {
    "name": "ipython",
    "version": 3
   },
   "file_extension": ".py",
   "mimetype": "text/x-python",
   "name": "python",
   "nbconvert_exporter": "python",
   "pygments_lexer": "ipython3",
   "version": "3.12.7"
  }
 },
 "nbformat": 4,
 "nbformat_minor": 5
}
